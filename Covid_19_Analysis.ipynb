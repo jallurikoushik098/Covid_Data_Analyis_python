{
  "nbformat": 4,
  "nbformat_minor": 0,
  "metadata": {
    "colab": {
      "name": "17th Oct - Covid 19 Analysis.ipynb",
      "provenance": [],
      "collapsed_sections": []
    },
    "kernelspec": {
      "name": "python3",
      "display_name": "Python 3"
    }
  },
  "cells": [
    {
      "cell_type": "code",
      "metadata": {
        "id": "istuduh3r1j-"
      },
      "source": [
        "import pandas as pd\n",
        "import seaborn as sns\n",
        "import matplotlib.pyplot as plt\n",
        "import plotly.express as px"
      ],
      "execution_count": null,
      "outputs": []
    },
    {
      "cell_type": "code",
      "metadata": {
        "id": "M8D-NbmRsgmQ",
        "outputId": "ed10283d-89e5-4f39-d3f9-0afd19e0a382",
        "colab": {
          "base_uri": "https://localhost:8080/",
          "height": 198
        }
      },
      "source": [
        "data = pd.read_csv('covid_19_data.csv')\n",
        "data.head()"
      ],
      "execution_count": null,
      "outputs": [
        {
          "output_type": "execute_result",
          "data": {
            "text/html": [
              "<div>\n",
              "<style scoped>\n",
              "    .dataframe tbody tr th:only-of-type {\n",
              "        vertical-align: middle;\n",
              "    }\n",
              "\n",
              "    .dataframe tbody tr th {\n",
              "        vertical-align: top;\n",
              "    }\n",
              "\n",
              "    .dataframe thead th {\n",
              "        text-align: right;\n",
              "    }\n",
              "</style>\n",
              "<table border=\"1\" class=\"dataframe\">\n",
              "  <thead>\n",
              "    <tr style=\"text-align: right;\">\n",
              "      <th></th>\n",
              "      <th>SNo</th>\n",
              "      <th>ObservationDate</th>\n",
              "      <th>Province/State</th>\n",
              "      <th>Country/Region</th>\n",
              "      <th>Last Update</th>\n",
              "      <th>Confirmed</th>\n",
              "      <th>Deaths</th>\n",
              "      <th>Recovered</th>\n",
              "    </tr>\n",
              "  </thead>\n",
              "  <tbody>\n",
              "    <tr>\n",
              "      <th>0</th>\n",
              "      <td>1</td>\n",
              "      <td>01/22/2020</td>\n",
              "      <td>Anhui</td>\n",
              "      <td>Mainland China</td>\n",
              "      <td>1/22/2020 17:00</td>\n",
              "      <td>1.0</td>\n",
              "      <td>0.0</td>\n",
              "      <td>0.0</td>\n",
              "    </tr>\n",
              "    <tr>\n",
              "      <th>1</th>\n",
              "      <td>2</td>\n",
              "      <td>01/22/2020</td>\n",
              "      <td>Beijing</td>\n",
              "      <td>Mainland China</td>\n",
              "      <td>1/22/2020 17:00</td>\n",
              "      <td>14.0</td>\n",
              "      <td>0.0</td>\n",
              "      <td>0.0</td>\n",
              "    </tr>\n",
              "    <tr>\n",
              "      <th>2</th>\n",
              "      <td>3</td>\n",
              "      <td>01/22/2020</td>\n",
              "      <td>Chongqing</td>\n",
              "      <td>Mainland China</td>\n",
              "      <td>1/22/2020 17:00</td>\n",
              "      <td>6.0</td>\n",
              "      <td>0.0</td>\n",
              "      <td>0.0</td>\n",
              "    </tr>\n",
              "    <tr>\n",
              "      <th>3</th>\n",
              "      <td>4</td>\n",
              "      <td>01/22/2020</td>\n",
              "      <td>Fujian</td>\n",
              "      <td>Mainland China</td>\n",
              "      <td>1/22/2020 17:00</td>\n",
              "      <td>1.0</td>\n",
              "      <td>0.0</td>\n",
              "      <td>0.0</td>\n",
              "    </tr>\n",
              "    <tr>\n",
              "      <th>4</th>\n",
              "      <td>5</td>\n",
              "      <td>01/22/2020</td>\n",
              "      <td>Gansu</td>\n",
              "      <td>Mainland China</td>\n",
              "      <td>1/22/2020 17:00</td>\n",
              "      <td>0.0</td>\n",
              "      <td>0.0</td>\n",
              "      <td>0.0</td>\n",
              "    </tr>\n",
              "  </tbody>\n",
              "</table>\n",
              "</div>"
            ],
            "text/plain": [
              "   SNo ObservationDate Province/State  ... Confirmed Deaths  Recovered\n",
              "0    1      01/22/2020          Anhui  ...       1.0    0.0        0.0\n",
              "1    2      01/22/2020        Beijing  ...      14.0    0.0        0.0\n",
              "2    3      01/22/2020      Chongqing  ...       6.0    0.0        0.0\n",
              "3    4      01/22/2020         Fujian  ...       1.0    0.0        0.0\n",
              "4    5      01/22/2020          Gansu  ...       0.0    0.0        0.0\n",
              "\n",
              "[5 rows x 8 columns]"
            ]
          },
          "metadata": {
            "tags": []
          },
          "execution_count": 3
        }
      ]
    },
    {
      "cell_type": "code",
      "metadata": {
        "id": "7g-mD-C4tEEE",
        "outputId": "50746db9-e9af-4c45-f2d7-d40faa9ca46b",
        "colab": {
          "base_uri": "https://localhost:8080/",
          "height": 198
        }
      },
      "source": [
        "data.tail()"
      ],
      "execution_count": null,
      "outputs": [
        {
          "output_type": "execute_result",
          "data": {
            "text/html": [
              "<div>\n",
              "<style scoped>\n",
              "    .dataframe tbody tr th:only-of-type {\n",
              "        vertical-align: middle;\n",
              "    }\n",
              "\n",
              "    .dataframe tbody tr th {\n",
              "        vertical-align: top;\n",
              "    }\n",
              "\n",
              "    .dataframe thead th {\n",
              "        text-align: right;\n",
              "    }\n",
              "</style>\n",
              "<table border=\"1\" class=\"dataframe\">\n",
              "  <thead>\n",
              "    <tr style=\"text-align: right;\">\n",
              "      <th></th>\n",
              "      <th>SNo</th>\n",
              "      <th>ObservationDate</th>\n",
              "      <th>Province/State</th>\n",
              "      <th>Country/Region</th>\n",
              "      <th>Last Update</th>\n",
              "      <th>Confirmed</th>\n",
              "      <th>Deaths</th>\n",
              "      <th>Recovered</th>\n",
              "    </tr>\n",
              "  </thead>\n",
              "  <tbody>\n",
              "    <tr>\n",
              "      <th>116800</th>\n",
              "      <td>116801</td>\n",
              "      <td>09/23/2020</td>\n",
              "      <td>Zaporizhia Oblast</td>\n",
              "      <td>Ukraine</td>\n",
              "      <td>2020-09-24 04:23:38</td>\n",
              "      <td>3149.0</td>\n",
              "      <td>49.0</td>\n",
              "      <td>1158.0</td>\n",
              "    </tr>\n",
              "    <tr>\n",
              "      <th>116801</th>\n",
              "      <td>116802</td>\n",
              "      <td>09/23/2020</td>\n",
              "      <td>Zeeland</td>\n",
              "      <td>Netherlands</td>\n",
              "      <td>2020-09-24 04:23:38</td>\n",
              "      <td>1270.0</td>\n",
              "      <td>72.0</td>\n",
              "      <td>0.0</td>\n",
              "    </tr>\n",
              "    <tr>\n",
              "      <th>116802</th>\n",
              "      <td>116803</td>\n",
              "      <td>09/23/2020</td>\n",
              "      <td>Zhejiang</td>\n",
              "      <td>Mainland China</td>\n",
              "      <td>2020-09-24 04:23:38</td>\n",
              "      <td>1282.0</td>\n",
              "      <td>1.0</td>\n",
              "      <td>1272.0</td>\n",
              "    </tr>\n",
              "    <tr>\n",
              "      <th>116803</th>\n",
              "      <td>116804</td>\n",
              "      <td>09/23/2020</td>\n",
              "      <td>Zhytomyr Oblast</td>\n",
              "      <td>Ukraine</td>\n",
              "      <td>2020-09-24 04:23:38</td>\n",
              "      <td>5191.0</td>\n",
              "      <td>92.0</td>\n",
              "      <td>2853.0</td>\n",
              "    </tr>\n",
              "    <tr>\n",
              "      <th>116804</th>\n",
              "      <td>116805</td>\n",
              "      <td>09/23/2020</td>\n",
              "      <td>Zuid-Holland</td>\n",
              "      <td>Netherlands</td>\n",
              "      <td>2020-09-24 04:23:38</td>\n",
              "      <td>29513.0</td>\n",
              "      <td>1372.0</td>\n",
              "      <td>0.0</td>\n",
              "    </tr>\n",
              "  </tbody>\n",
              "</table>\n",
              "</div>"
            ],
            "text/plain": [
              "           SNo ObservationDate     Province/State  ... Confirmed  Deaths  Recovered\n",
              "116800  116801      09/23/2020  Zaporizhia Oblast  ...    3149.0    49.0     1158.0\n",
              "116801  116802      09/23/2020            Zeeland  ...    1270.0    72.0        0.0\n",
              "116802  116803      09/23/2020           Zhejiang  ...    1282.0     1.0     1272.0\n",
              "116803  116804      09/23/2020    Zhytomyr Oblast  ...    5191.0    92.0     2853.0\n",
              "116804  116805      09/23/2020       Zuid-Holland  ...   29513.0  1372.0        0.0\n",
              "\n",
              "[5 rows x 8 columns]"
            ]
          },
          "metadata": {
            "tags": []
          },
          "execution_count": 4
        }
      ]
    },
    {
      "cell_type": "code",
      "metadata": {
        "id": "etK5jLXztjsV",
        "outputId": "f0e20471-0610-4c4d-d249-148ef6c3d742",
        "colab": {
          "base_uri": "https://localhost:8080/",
          "height": 276
        }
      },
      "source": [
        "data.info()"
      ],
      "execution_count": null,
      "outputs": [
        {
          "output_type": "stream",
          "text": [
            "<class 'pandas.core.frame.DataFrame'>\n",
            "RangeIndex: 116805 entries, 0 to 116804\n",
            "Data columns (total 8 columns):\n",
            " #   Column           Non-Null Count   Dtype  \n",
            "---  ------           --------------   -----  \n",
            " 0   SNo              116805 non-null  int64  \n",
            " 1   ObservationDate  116805 non-null  object \n",
            " 2   Province/State   81452 non-null   object \n",
            " 3   Country/Region   116805 non-null  object \n",
            " 4   Last Update      116805 non-null  object \n",
            " 5   Confirmed        116805 non-null  float64\n",
            " 6   Deaths           116805 non-null  float64\n",
            " 7   Recovered        116805 non-null  float64\n",
            "dtypes: float64(3), int64(1), object(4)\n",
            "memory usage: 7.1+ MB\n"
          ],
          "name": "stdout"
        }
      ]
    },
    {
      "cell_type": "code",
      "metadata": {
        "id": "qWY7SCaGt4bH"
      },
      "source": [
        "data['ObservationDate'] = pd.to_datetime(data['ObservationDate'])"
      ],
      "execution_count": null,
      "outputs": []
    },
    {
      "cell_type": "code",
      "metadata": {
        "id": "RFi5wIaLuwLs"
      },
      "source": [
        "data.info()"
      ],
      "execution_count": null,
      "outputs": []
    },
    {
      "cell_type": "code",
      "metadata": {
        "id": "MWw6YoqXuxbT"
      },
      "source": [
        "data = data.rename(columns={\"ObservationDate\":\"Date\",\"Country/Region\":\"Country\"})"
      ],
      "execution_count": null,
      "outputs": []
    },
    {
      "cell_type": "code",
      "metadata": {
        "id": "CSwEV8V8vKQA",
        "outputId": "79ed290c-26ed-4bae-9fc9-272a278112ae",
        "colab": {
          "base_uri": "https://localhost:8080/",
          "height": 198
        }
      },
      "source": [
        "data.head()"
      ],
      "execution_count": null,
      "outputs": [
        {
          "output_type": "execute_result",
          "data": {
            "text/html": [
              "<div>\n",
              "<style scoped>\n",
              "    .dataframe tbody tr th:only-of-type {\n",
              "        vertical-align: middle;\n",
              "    }\n",
              "\n",
              "    .dataframe tbody tr th {\n",
              "        vertical-align: top;\n",
              "    }\n",
              "\n",
              "    .dataframe thead th {\n",
              "        text-align: right;\n",
              "    }\n",
              "</style>\n",
              "<table border=\"1\" class=\"dataframe\">\n",
              "  <thead>\n",
              "    <tr style=\"text-align: right;\">\n",
              "      <th></th>\n",
              "      <th>SNo</th>\n",
              "      <th>Date</th>\n",
              "      <th>Province/State</th>\n",
              "      <th>Country</th>\n",
              "      <th>Last Update</th>\n",
              "      <th>Confirmed</th>\n",
              "      <th>Deaths</th>\n",
              "      <th>Recovered</th>\n",
              "    </tr>\n",
              "  </thead>\n",
              "  <tbody>\n",
              "    <tr>\n",
              "      <th>0</th>\n",
              "      <td>1</td>\n",
              "      <td>2020-01-22</td>\n",
              "      <td>Anhui</td>\n",
              "      <td>Mainland China</td>\n",
              "      <td>1/22/2020 17:00</td>\n",
              "      <td>1.0</td>\n",
              "      <td>0.0</td>\n",
              "      <td>0.0</td>\n",
              "    </tr>\n",
              "    <tr>\n",
              "      <th>1</th>\n",
              "      <td>2</td>\n",
              "      <td>2020-01-22</td>\n",
              "      <td>Beijing</td>\n",
              "      <td>Mainland China</td>\n",
              "      <td>1/22/2020 17:00</td>\n",
              "      <td>14.0</td>\n",
              "      <td>0.0</td>\n",
              "      <td>0.0</td>\n",
              "    </tr>\n",
              "    <tr>\n",
              "      <th>2</th>\n",
              "      <td>3</td>\n",
              "      <td>2020-01-22</td>\n",
              "      <td>Chongqing</td>\n",
              "      <td>Mainland China</td>\n",
              "      <td>1/22/2020 17:00</td>\n",
              "      <td>6.0</td>\n",
              "      <td>0.0</td>\n",
              "      <td>0.0</td>\n",
              "    </tr>\n",
              "    <tr>\n",
              "      <th>3</th>\n",
              "      <td>4</td>\n",
              "      <td>2020-01-22</td>\n",
              "      <td>Fujian</td>\n",
              "      <td>Mainland China</td>\n",
              "      <td>1/22/2020 17:00</td>\n",
              "      <td>1.0</td>\n",
              "      <td>0.0</td>\n",
              "      <td>0.0</td>\n",
              "    </tr>\n",
              "    <tr>\n",
              "      <th>4</th>\n",
              "      <td>5</td>\n",
              "      <td>2020-01-22</td>\n",
              "      <td>Gansu</td>\n",
              "      <td>Mainland China</td>\n",
              "      <td>1/22/2020 17:00</td>\n",
              "      <td>0.0</td>\n",
              "      <td>0.0</td>\n",
              "      <td>0.0</td>\n",
              "    </tr>\n",
              "  </tbody>\n",
              "</table>\n",
              "</div>"
            ],
            "text/plain": [
              "   SNo       Date Province/State  ... Confirmed Deaths  Recovered\n",
              "0    1 2020-01-22          Anhui  ...       1.0    0.0        0.0\n",
              "1    2 2020-01-22        Beijing  ...      14.0    0.0        0.0\n",
              "2    3 2020-01-22      Chongqing  ...       6.0    0.0        0.0\n",
              "3    4 2020-01-22         Fujian  ...       1.0    0.0        0.0\n",
              "4    5 2020-01-22          Gansu  ...       0.0    0.0        0.0\n",
              "\n",
              "[5 rows x 8 columns]"
            ]
          },
          "metadata": {
            "tags": []
          },
          "execution_count": 9
        }
      ]
    },
    {
      "cell_type": "code",
      "metadata": {
        "id": "6CwRd7dwvLVW",
        "outputId": "2b77abd9-3338-4612-83b6-26ae26566cc5",
        "colab": {
          "base_uri": "https://localhost:8080/",
          "height": 198
        }
      },
      "source": [
        "data['Active'] = data['Confirmed'] - data['Deaths'] - data['Recovered']\n",
        "data.tail()"
      ],
      "execution_count": null,
      "outputs": [
        {
          "output_type": "execute_result",
          "data": {
            "text/html": [
              "<div>\n",
              "<style scoped>\n",
              "    .dataframe tbody tr th:only-of-type {\n",
              "        vertical-align: middle;\n",
              "    }\n",
              "\n",
              "    .dataframe tbody tr th {\n",
              "        vertical-align: top;\n",
              "    }\n",
              "\n",
              "    .dataframe thead th {\n",
              "        text-align: right;\n",
              "    }\n",
              "</style>\n",
              "<table border=\"1\" class=\"dataframe\">\n",
              "  <thead>\n",
              "    <tr style=\"text-align: right;\">\n",
              "      <th></th>\n",
              "      <th>SNo</th>\n",
              "      <th>Date</th>\n",
              "      <th>Province/State</th>\n",
              "      <th>Country</th>\n",
              "      <th>Last Update</th>\n",
              "      <th>Confirmed</th>\n",
              "      <th>Deaths</th>\n",
              "      <th>Recovered</th>\n",
              "      <th>Active</th>\n",
              "    </tr>\n",
              "  </thead>\n",
              "  <tbody>\n",
              "    <tr>\n",
              "      <th>116800</th>\n",
              "      <td>116801</td>\n",
              "      <td>2020-09-23</td>\n",
              "      <td>Zaporizhia Oblast</td>\n",
              "      <td>Ukraine</td>\n",
              "      <td>2020-09-24 04:23:38</td>\n",
              "      <td>3149.0</td>\n",
              "      <td>49.0</td>\n",
              "      <td>1158.0</td>\n",
              "      <td>1942.0</td>\n",
              "    </tr>\n",
              "    <tr>\n",
              "      <th>116801</th>\n",
              "      <td>116802</td>\n",
              "      <td>2020-09-23</td>\n",
              "      <td>Zeeland</td>\n",
              "      <td>Netherlands</td>\n",
              "      <td>2020-09-24 04:23:38</td>\n",
              "      <td>1270.0</td>\n",
              "      <td>72.0</td>\n",
              "      <td>0.0</td>\n",
              "      <td>1198.0</td>\n",
              "    </tr>\n",
              "    <tr>\n",
              "      <th>116802</th>\n",
              "      <td>116803</td>\n",
              "      <td>2020-09-23</td>\n",
              "      <td>Zhejiang</td>\n",
              "      <td>Mainland China</td>\n",
              "      <td>2020-09-24 04:23:38</td>\n",
              "      <td>1282.0</td>\n",
              "      <td>1.0</td>\n",
              "      <td>1272.0</td>\n",
              "      <td>9.0</td>\n",
              "    </tr>\n",
              "    <tr>\n",
              "      <th>116803</th>\n",
              "      <td>116804</td>\n",
              "      <td>2020-09-23</td>\n",
              "      <td>Zhytomyr Oblast</td>\n",
              "      <td>Ukraine</td>\n",
              "      <td>2020-09-24 04:23:38</td>\n",
              "      <td>5191.0</td>\n",
              "      <td>92.0</td>\n",
              "      <td>2853.0</td>\n",
              "      <td>2246.0</td>\n",
              "    </tr>\n",
              "    <tr>\n",
              "      <th>116804</th>\n",
              "      <td>116805</td>\n",
              "      <td>2020-09-23</td>\n",
              "      <td>Zuid-Holland</td>\n",
              "      <td>Netherlands</td>\n",
              "      <td>2020-09-24 04:23:38</td>\n",
              "      <td>29513.0</td>\n",
              "      <td>1372.0</td>\n",
              "      <td>0.0</td>\n",
              "      <td>28141.0</td>\n",
              "    </tr>\n",
              "  </tbody>\n",
              "</table>\n",
              "</div>"
            ],
            "text/plain": [
              "           SNo       Date     Province/State  ...  Deaths Recovered   Active\n",
              "116800  116801 2020-09-23  Zaporizhia Oblast  ...    49.0    1158.0   1942.0\n",
              "116801  116802 2020-09-23            Zeeland  ...    72.0       0.0   1198.0\n",
              "116802  116803 2020-09-23           Zhejiang  ...     1.0    1272.0      9.0\n",
              "116803  116804 2020-09-23    Zhytomyr Oblast  ...    92.0    2853.0   2246.0\n",
              "116804  116805 2020-09-23       Zuid-Holland  ...  1372.0       0.0  28141.0\n",
              "\n",
              "[5 rows x 9 columns]"
            ]
          },
          "metadata": {
            "tags": []
          },
          "execution_count": 11
        }
      ]
    },
    {
      "cell_type": "code",
      "metadata": {
        "id": "fDtzWy_dv2Gt",
        "outputId": "06befbf8-13bb-4275-b436-13ff4eab9d2b",
        "colab": {
          "base_uri": "https://localhost:8080/",
          "height": 198
        }
      },
      "source": [
        "### Get the Latest Data\n",
        "latest = data[data['Date'] == data['Date'].max()]\n",
        "latest.head()"
      ],
      "execution_count": null,
      "outputs": [
        {
          "output_type": "execute_result",
          "data": {
            "text/html": [
              "<div>\n",
              "<style scoped>\n",
              "    .dataframe tbody tr th:only-of-type {\n",
              "        vertical-align: middle;\n",
              "    }\n",
              "\n",
              "    .dataframe tbody tr th {\n",
              "        vertical-align: top;\n",
              "    }\n",
              "\n",
              "    .dataframe thead th {\n",
              "        text-align: right;\n",
              "    }\n",
              "</style>\n",
              "<table border=\"1\" class=\"dataframe\">\n",
              "  <thead>\n",
              "    <tr style=\"text-align: right;\">\n",
              "      <th></th>\n",
              "      <th>SNo</th>\n",
              "      <th>Date</th>\n",
              "      <th>Province/State</th>\n",
              "      <th>Country</th>\n",
              "      <th>Last Update</th>\n",
              "      <th>Confirmed</th>\n",
              "      <th>Deaths</th>\n",
              "      <th>Recovered</th>\n",
              "      <th>Active</th>\n",
              "    </tr>\n",
              "  </thead>\n",
              "  <tbody>\n",
              "    <tr>\n",
              "      <th>116062</th>\n",
              "      <td>116063</td>\n",
              "      <td>2020-09-23</td>\n",
              "      <td>NaN</td>\n",
              "      <td>Afghanistan</td>\n",
              "      <td>2020-09-24 04:23:38</td>\n",
              "      <td>39145.0</td>\n",
              "      <td>1446.0</td>\n",
              "      <td>32610.0</td>\n",
              "      <td>5089.0</td>\n",
              "    </tr>\n",
              "    <tr>\n",
              "      <th>116063</th>\n",
              "      <td>116064</td>\n",
              "      <td>2020-09-23</td>\n",
              "      <td>NaN</td>\n",
              "      <td>Albania</td>\n",
              "      <td>2020-09-24 04:23:38</td>\n",
              "      <td>12787.0</td>\n",
              "      <td>370.0</td>\n",
              "      <td>7139.0</td>\n",
              "      <td>5278.0</td>\n",
              "    </tr>\n",
              "    <tr>\n",
              "      <th>116064</th>\n",
              "      <td>116065</td>\n",
              "      <td>2020-09-23</td>\n",
              "      <td>NaN</td>\n",
              "      <td>Algeria</td>\n",
              "      <td>2020-09-24 04:23:38</td>\n",
              "      <td>50400.0</td>\n",
              "      <td>1698.0</td>\n",
              "      <td>35428.0</td>\n",
              "      <td>13274.0</td>\n",
              "    </tr>\n",
              "    <tr>\n",
              "      <th>116065</th>\n",
              "      <td>116066</td>\n",
              "      <td>2020-09-23</td>\n",
              "      <td>NaN</td>\n",
              "      <td>Andorra</td>\n",
              "      <td>2020-09-24 04:23:38</td>\n",
              "      <td>1753.0</td>\n",
              "      <td>53.0</td>\n",
              "      <td>1203.0</td>\n",
              "      <td>497.0</td>\n",
              "    </tr>\n",
              "    <tr>\n",
              "      <th>116066</th>\n",
              "      <td>116067</td>\n",
              "      <td>2020-09-23</td>\n",
              "      <td>NaN</td>\n",
              "      <td>Angola</td>\n",
              "      <td>2020-09-24 04:23:38</td>\n",
              "      <td>4363.0</td>\n",
              "      <td>159.0</td>\n",
              "      <td>1473.0</td>\n",
              "      <td>2731.0</td>\n",
              "    </tr>\n",
              "  </tbody>\n",
              "</table>\n",
              "</div>"
            ],
            "text/plain": [
              "           SNo       Date Province/State  ...  Deaths Recovered   Active\n",
              "116062  116063 2020-09-23            NaN  ...  1446.0   32610.0   5089.0\n",
              "116063  116064 2020-09-23            NaN  ...   370.0    7139.0   5278.0\n",
              "116064  116065 2020-09-23            NaN  ...  1698.0   35428.0  13274.0\n",
              "116065  116066 2020-09-23            NaN  ...    53.0    1203.0    497.0\n",
              "116066  116067 2020-09-23            NaN  ...   159.0    1473.0   2731.0\n",
              "\n",
              "[5 rows x 9 columns]"
            ]
          },
          "metadata": {
            "tags": []
          },
          "execution_count": 13
        }
      ]
    },
    {
      "cell_type": "code",
      "metadata": {
        "id": "-w_kzOxAwp8p",
        "outputId": "eeecf578-e937-41a2-e19b-a921bf200e4e",
        "colab": {
          "base_uri": "https://localhost:8080/",
          "height": 34
        }
      },
      "source": [
        "len(latest)"
      ],
      "execution_count": null,
      "outputs": [
        {
          "output_type": "execute_result",
          "data": {
            "text/plain": [
              "743"
            ]
          },
          "metadata": {
            "tags": []
          },
          "execution_count": 14
        }
      ]
    },
    {
      "cell_type": "code",
      "metadata": {
        "id": "SPhLipM3xUHE",
        "outputId": "79b2f770-b3e2-43c9-f61d-c2f92440747f",
        "colab": {
          "base_uri": "https://localhost:8080/",
          "height": 224
        }
      },
      "source": [
        "latest['Country'].value_counts()"
      ],
      "execution_count": null,
      "outputs": [
        {
          "output_type": "execute_result",
          "data": {
            "text/plain": [
              "Russia         83\n",
              "US             58\n",
              "Japan          49\n",
              "India          37\n",
              "Colombia       34\n",
              "               ..\n",
              "Eswatini        1\n",
              "Israel          1\n",
              "Mauritius       1\n",
              "Ivory Coast     1\n",
              "Rwanda          1\n",
              "Name: Country, Length: 190, dtype: int64"
            ]
          },
          "metadata": {
            "tags": []
          },
          "execution_count": 15
        }
      ]
    },
    {
      "cell_type": "code",
      "metadata": {
        "id": "aYIeV6Rnxged",
        "outputId": "4f68fee4-2dc7-473b-afa1-33033f80735e",
        "colab": {
          "base_uri": "https://localhost:8080/",
          "height": 267
        }
      },
      "source": [
        "#### Group Data by Country\n",
        "world = latest.groupby(\"Country\")[\"Confirmed\",\"Deaths\",\"Recovered\",\"Active\"].sum()\n",
        "world = world.reset_index()\n",
        "world.head()"
      ],
      "execution_count": null,
      "outputs": [
        {
          "output_type": "stream",
          "text": [
            "/usr/local/lib/python3.6/dist-packages/ipykernel_launcher.py:2: FutureWarning:\n",
            "\n",
            "Indexing with multiple keys (implicitly converted to a tuple of keys) will be deprecated, use a list instead.\n",
            "\n"
          ],
          "name": "stderr"
        },
        {
          "output_type": "execute_result",
          "data": {
            "text/html": [
              "<div>\n",
              "<style scoped>\n",
              "    .dataframe tbody tr th:only-of-type {\n",
              "        vertical-align: middle;\n",
              "    }\n",
              "\n",
              "    .dataframe tbody tr th {\n",
              "        vertical-align: top;\n",
              "    }\n",
              "\n",
              "    .dataframe thead th {\n",
              "        text-align: right;\n",
              "    }\n",
              "</style>\n",
              "<table border=\"1\" class=\"dataframe\">\n",
              "  <thead>\n",
              "    <tr style=\"text-align: right;\">\n",
              "      <th></th>\n",
              "      <th>Country</th>\n",
              "      <th>Confirmed</th>\n",
              "      <th>Deaths</th>\n",
              "      <th>Recovered</th>\n",
              "      <th>Active</th>\n",
              "    </tr>\n",
              "  </thead>\n",
              "  <tbody>\n",
              "    <tr>\n",
              "      <th>0</th>\n",
              "      <td>Afghanistan</td>\n",
              "      <td>39145.0</td>\n",
              "      <td>1446.0</td>\n",
              "      <td>32610.0</td>\n",
              "      <td>5089.0</td>\n",
              "    </tr>\n",
              "    <tr>\n",
              "      <th>1</th>\n",
              "      <td>Albania</td>\n",
              "      <td>12787.0</td>\n",
              "      <td>370.0</td>\n",
              "      <td>7139.0</td>\n",
              "      <td>5278.0</td>\n",
              "    </tr>\n",
              "    <tr>\n",
              "      <th>2</th>\n",
              "      <td>Algeria</td>\n",
              "      <td>50400.0</td>\n",
              "      <td>1698.0</td>\n",
              "      <td>35428.0</td>\n",
              "      <td>13274.0</td>\n",
              "    </tr>\n",
              "    <tr>\n",
              "      <th>3</th>\n",
              "      <td>Andorra</td>\n",
              "      <td>1753.0</td>\n",
              "      <td>53.0</td>\n",
              "      <td>1203.0</td>\n",
              "      <td>497.0</td>\n",
              "    </tr>\n",
              "    <tr>\n",
              "      <th>4</th>\n",
              "      <td>Angola</td>\n",
              "      <td>4363.0</td>\n",
              "      <td>159.0</td>\n",
              "      <td>1473.0</td>\n",
              "      <td>2731.0</td>\n",
              "    </tr>\n",
              "  </tbody>\n",
              "</table>\n",
              "</div>"
            ],
            "text/plain": [
              "       Country  Confirmed  Deaths  Recovered   Active\n",
              "0  Afghanistan    39145.0  1446.0    32610.0   5089.0\n",
              "1      Albania    12787.0   370.0     7139.0   5278.0\n",
              "2      Algeria    50400.0  1698.0    35428.0  13274.0\n",
              "3      Andorra     1753.0    53.0     1203.0    497.0\n",
              "4       Angola     4363.0   159.0     1473.0   2731.0"
            ]
          },
          "metadata": {
            "tags": []
          },
          "execution_count": 18
        }
      ]
    },
    {
      "cell_type": "code",
      "metadata": {
        "id": "590roLNcyn1S",
        "outputId": "71031214-aa67-479b-afc4-e9958b0fb045",
        "colab": {
          "base_uri": "https://localhost:8080/",
          "height": 224
        }
      },
      "source": [
        "world['Country'].value_counts()"
      ],
      "execution_count": null,
      "outputs": [
        {
          "output_type": "execute_result",
          "data": {
            "text/plain": [
              "Italy          1\n",
              "Zambia         1\n",
              "Tunisia        1\n",
              "Iran           1\n",
              "Japan          1\n",
              "              ..\n",
              "Eswatini       1\n",
              "Israel         1\n",
              "Mauritius      1\n",
              "Ivory Coast    1\n",
              "Canada         1\n",
              "Name: Country, Length: 190, dtype: int64"
            ]
          },
          "metadata": {
            "tags": []
          },
          "execution_count": 19
        }
      ]
    },
    {
      "cell_type": "code",
      "metadata": {
        "id": "u2gZi56wy_lS",
        "outputId": "0ca91d6b-ae02-4e64-c0c3-afd533e18071",
        "colab": {
          "base_uri": "https://localhost:8080/",
          "height": 542
        }
      },
      "source": [
        "#### World Map Plot\n",
        "world_map = px.choropleth(world,locations=\"Country\",locationmode=\"country names\",\n",
        "                          color_continuous_scale=\"reds\",color=\"Active\",\n",
        "                          range_color=[0,200000],title=\"Active Cases\")\n",
        "world_map.show()"
      ],
      "execution_count": null,
      "outputs": [
        {
          "output_type": "display_data",
          "data": {
            "text/html": [
              "<html>\n",
              "<head><meta charset=\"utf-8\" /></head>\n",
              "<body>\n",
              "    <div>\n",
              "            <script src=\"https://cdnjs.cloudflare.com/ajax/libs/mathjax/2.7.5/MathJax.js?config=TeX-AMS-MML_SVG\"></script><script type=\"text/javascript\">if (window.MathJax) {MathJax.Hub.Config({SVG: {font: \"STIX-Web\"}});}</script>\n",
              "                <script type=\"text/javascript\">window.PlotlyConfig = {MathJaxConfig: 'local'};</script>\n",
              "        <script src=\"https://cdn.plot.ly/plotly-latest.min.js\"></script>    \n",
              "            <div id=\"cb4038fd-8b25-4fa3-8c41-9e0802feea08\" class=\"plotly-graph-div\" style=\"height:525px; width:100%;\"></div>\n",
              "            <script type=\"text/javascript\">\n",
              "                \n",
              "                    window.PLOTLYENV=window.PLOTLYENV || {};\n",
              "                    \n",
              "                if (document.getElementById(\"cb4038fd-8b25-4fa3-8c41-9e0802feea08\")) {\n",
              "                    Plotly.newPlot(\n",
              "                        'cb4038fd-8b25-4fa3-8c41-9e0802feea08',\n",
              "                        [{\"coloraxis\": \"coloraxis\", \"geo\": \"geo\", \"hoverlabel\": {\"namelength\": 0}, \"hovertemplate\": \"Country=%{location}<br>Active=%{z}\", \"locationmode\": \"country names\", \"locations\": [\"Afghanistan\", \"Albania\", \"Algeria\", \"Andorra\", \"Angola\", \"Antigua and Barbuda\", \"Argentina\", \"Armenia\", \"Australia\", \"Austria\", \"Azerbaijan\", \"Bahamas\", \"Bahrain\", \"Bangladesh\", \"Barbados\", \"Belarus\", \"Belgium\", \"Belize\", \"Benin\", \"Bhutan\", \"Bolivia\", \"Bosnia and Herzegovina\", \"Botswana\", \"Brazil\", \"Brunei\", \"Bulgaria\", \"Burkina Faso\", \"Burma\", \"Burundi\", \"Cabo Verde\", \"Cambodia\", \"Cameroon\", \"Canada\", \"Central African Republic\", \"Chad\", \"Chile\", \"Colombia\", \"Comoros\", \"Congo (Brazzaville)\", \"Congo (Kinshasa)\", \"Costa Rica\", \"Croatia\", \"Cuba\", \"Cyprus\", \"Czech Republic\", \"Denmark\", \"Diamond Princess\", \"Djibouti\", \"Dominica\", \"Dominican Republic\", \"Ecuador\", \"Egypt\", \"El Salvador\", \"Equatorial Guinea\", \"Eritrea\", \"Estonia\", \"Eswatini\", \"Ethiopia\", \"Fiji\", \"Finland\", \"France\", \"Gabon\", \"Gambia\", \"Georgia\", \"Germany\", \"Ghana\", \"Greece\", \"Grenada\", \"Guatemala\", \"Guinea\", \"Guinea-Bissau\", \"Guyana\", \"Haiti\", \"Holy See\", \"Honduras\", \"Hong Kong\", \"Hungary\", \"Iceland\", \"India\", \"Indonesia\", \"Iran\", \"Iraq\", \"Ireland\", \"Israel\", \"Italy\", \"Ivory Coast\", \"Jamaica\", \"Japan\", \"Jordan\", \"Kazakhstan\", \"Kenya\", \"Kosovo\", \"Kuwait\", \"Kyrgyzstan\", \"Laos\", \"Latvia\", \"Lebanon\", \"Lesotho\", \"Liberia\", \"Libya\", \"Liechtenstein\", \"Lithuania\", \"Luxembourg\", \"MS Zaandam\", \"Macau\", \"Madagascar\", \"Mainland China\", \"Malawi\", \"Malaysia\", \"Maldives\", \"Mali\", \"Malta\", \"Mauritania\", \"Mauritius\", \"Mexico\", \"Moldova\", \"Monaco\", \"Mongolia\", \"Montenegro\", \"Morocco\", \"Mozambique\", \"Namibia\", \"Nepal\", \"Netherlands\", \"New Zealand\", \"Nicaragua\", \"Niger\", \"Nigeria\", \"North Macedonia\", \"Norway\", \"Oman\", \"Pakistan\", \"Panama\", \"Papua New Guinea\", \"Paraguay\", \"Peru\", \"Philippines\", \"Poland\", \"Portugal\", \"Qatar\", \"Romania\", \"Russia\", \"Rwanda\", \"Saint Kitts and Nevis\", \"Saint Lucia\", \"Saint Vincent and the Grenadines\", \"San Marino\", \"Sao Tome and Principe\", \"Saudi Arabia\", \"Senegal\", \"Serbia\", \"Seychelles\", \"Sierra Leone\", \"Singapore\", \"Slovakia\", \"Slovenia\", \"Somalia\", \"South Africa\", \"South Korea\", \"South Sudan\", \"Spain\", \"Sri Lanka\", \"Sudan\", \"Suriname\", \"Sweden\", \"Switzerland\", \"Syria\", \"Taiwan\", \"Tajikistan\", \"Tanzania\", \"Thailand\", \"Timor-Leste\", \"Togo\", \"Trinidad and Tobago\", \"Tunisia\", \"Turkey\", \"UK\", \"US\", \"Uganda\", \"Ukraine\", \"United Arab Emirates\", \"Uruguay\", \"Uzbekistan\", \"Venezuela\", \"Vietnam\", \"West Bank and Gaza\", \"Western Sahara\", \"Yemen\", \"Zambia\", \"Zimbabwe\"], \"name\": \"\", \"type\": \"choropleth\", \"z\": [5089.0, 5278.0, 13274.0, 497.0, 2731.0, 2.0, 124937.0, 3909.0, 1673.0, 8258.0, 1822.0, 1623.0, 6666.0, 85847.0, 8.0, 1997.0, 77849.0, 665.0, 331.0, 65.0, 32703.0, 6657.0, 1930.0, 406432.0, 0.0, 4637.0, 621.0, 5609.0, 13.0, 521.0, 1.0, 1150.0, 10795.0, 2910.0, 85.0, 12393.0, 97245.0, 10.0, 1029.0, 225.0, 41142.0, 1268.0, 570.0, 263.0, 28200.0, 5390.0, 48.0, 8.0, 6.0, 24229.0, 15869.0, 4710.0, 5022.0, 426.0, 55.0, 582.0, 542.0, 40689.0, 2.0, 1095.0, 380511.0, 756.0, 1421.0, 2472.0, 23896.0, 555.0, 14582.0, 0.0, 7829.0, 568.0, 736.0, 1002.0, 1870.0, 0.0, 46431.0, 196.0, 15104.0, 324.0, 968377.0, 59453.0, 42112.0, 58893.0, 8517.0, 58402.0, 46114.0, 435.0, 3875.0, 6937.0, 2195.0, 3507.0, 12431.0, 3407.0, 8368.0, 2663.0, 1.0, 288.0, 17937.0, 706.0, 36.0, 13198.0, 5.0, 1599.0, 1104.0, 7.0, 0.0, 1153.0, 171.0, 1427.0, 770.0, 1321.0, 522.0, 658.0, 236.0, 18.0, 33489.0, 10917.0, 33.0, 11.0, 3549.0, 17581.0, 2863.0, 2115.0, 17414.0, 95817.0, 65.0, 2011.0, 17.0, 7637.0, 2153.0, 2639.0, 7982.0, 7388.0, 21262.0, 288.0, 14977.0, 108489.0, 58127.0, 13768.0, 22247.0, 2957.0, 18307.0, 177165.0, 1757.0, 2.0, 1.0, 0.0, 12.0, 13.0, 13004.0, 2774.0, 32336.0, 7.0, 446.0, 321.0, 3340.0, 1383.0, 490.0, 54753.0, 2116.0, 1325.0, 512146.0, 182.0, 5982.0, 118.0, 83880.0, 6941.0, 2745.0, 22.0, 1157.0, 305.0, 104.0, 0.0, 363.0, 2109.0, 9919.0, 29635.0, 368047.0, 4061408.0, 3849.0, 100937.0, 10129.0, 238.0, 3182.0, 10106.0, 43.0, 10523.0, 1.0, 198.0, 482.0, 1491.0]}],\n",
              "                        {\"coloraxis\": {\"cmax\": 200000, \"cmin\": 0, \"colorbar\": {\"title\": {\"text\": \"Active\"}}, \"colorscale\": [[0.0, \"rgb(255,245,240)\"], [0.125, \"rgb(254,224,210)\"], [0.25, \"rgb(252,187,161)\"], [0.375, \"rgb(252,146,114)\"], [0.5, \"rgb(251,106,74)\"], [0.625, \"rgb(239,59,44)\"], [0.75, \"rgb(203,24,29)\"], [0.875, \"rgb(165,15,21)\"], [1.0, \"rgb(103,0,13)\"]]}, \"geo\": {\"center\": {}, \"domain\": {\"x\": [0.0, 1.0], \"y\": [0.0, 1.0]}}, \"legend\": {\"tracegroupgap\": 0}, \"template\": {\"data\": {\"bar\": [{\"error_x\": {\"color\": \"#2a3f5f\"}, \"error_y\": {\"color\": \"#2a3f5f\"}, \"marker\": {\"line\": {\"color\": \"#E5ECF6\", \"width\": 0.5}}, \"type\": \"bar\"}], \"barpolar\": [{\"marker\": {\"line\": {\"color\": \"#E5ECF6\", \"width\": 0.5}}, \"type\": \"barpolar\"}], \"carpet\": [{\"aaxis\": {\"endlinecolor\": \"#2a3f5f\", \"gridcolor\": \"white\", \"linecolor\": \"white\", \"minorgridcolor\": \"white\", \"startlinecolor\": \"#2a3f5f\"}, \"baxis\": {\"endlinecolor\": \"#2a3f5f\", \"gridcolor\": \"white\", \"linecolor\": \"white\", \"minorgridcolor\": \"white\", \"startlinecolor\": \"#2a3f5f\"}, \"type\": \"carpet\"}], \"choropleth\": [{\"colorbar\": {\"outlinewidth\": 0, \"ticks\": \"\"}, \"type\": \"choropleth\"}], \"contour\": [{\"colorbar\": {\"outlinewidth\": 0, \"ticks\": \"\"}, \"colorscale\": [[0.0, \"#0d0887\"], [0.1111111111111111, \"#46039f\"], [0.2222222222222222, \"#7201a8\"], [0.3333333333333333, \"#9c179e\"], [0.4444444444444444, \"#bd3786\"], [0.5555555555555556, \"#d8576b\"], [0.6666666666666666, \"#ed7953\"], [0.7777777777777778, \"#fb9f3a\"], [0.8888888888888888, \"#fdca26\"], [1.0, \"#f0f921\"]], \"type\": \"contour\"}], \"contourcarpet\": [{\"colorbar\": {\"outlinewidth\": 0, \"ticks\": \"\"}, \"type\": \"contourcarpet\"}], \"heatmap\": [{\"colorbar\": {\"outlinewidth\": 0, \"ticks\": \"\"}, \"colorscale\": [[0.0, \"#0d0887\"], [0.1111111111111111, \"#46039f\"], [0.2222222222222222, \"#7201a8\"], [0.3333333333333333, \"#9c179e\"], [0.4444444444444444, \"#bd3786\"], [0.5555555555555556, \"#d8576b\"], [0.6666666666666666, \"#ed7953\"], [0.7777777777777778, \"#fb9f3a\"], [0.8888888888888888, \"#fdca26\"], [1.0, \"#f0f921\"]], \"type\": \"heatmap\"}], \"heatmapgl\": [{\"colorbar\": {\"outlinewidth\": 0, \"ticks\": \"\"}, \"colorscale\": [[0.0, \"#0d0887\"], [0.1111111111111111, \"#46039f\"], [0.2222222222222222, \"#7201a8\"], [0.3333333333333333, \"#9c179e\"], [0.4444444444444444, \"#bd3786\"], [0.5555555555555556, \"#d8576b\"], [0.6666666666666666, \"#ed7953\"], [0.7777777777777778, \"#fb9f3a\"], [0.8888888888888888, \"#fdca26\"], [1.0, \"#f0f921\"]], \"type\": \"heatmapgl\"}], \"histogram\": [{\"marker\": {\"colorbar\": {\"outlinewidth\": 0, \"ticks\": \"\"}}, \"type\": \"histogram\"}], \"histogram2d\": [{\"colorbar\": {\"outlinewidth\": 0, \"ticks\": \"\"}, \"colorscale\": [[0.0, \"#0d0887\"], [0.1111111111111111, \"#46039f\"], [0.2222222222222222, \"#7201a8\"], [0.3333333333333333, \"#9c179e\"], [0.4444444444444444, \"#bd3786\"], [0.5555555555555556, \"#d8576b\"], [0.6666666666666666, \"#ed7953\"], [0.7777777777777778, \"#fb9f3a\"], [0.8888888888888888, \"#fdca26\"], [1.0, \"#f0f921\"]], \"type\": \"histogram2d\"}], \"histogram2dcontour\": [{\"colorbar\": {\"outlinewidth\": 0, \"ticks\": \"\"}, \"colorscale\": [[0.0, \"#0d0887\"], [0.1111111111111111, \"#46039f\"], [0.2222222222222222, \"#7201a8\"], [0.3333333333333333, \"#9c179e\"], [0.4444444444444444, \"#bd3786\"], [0.5555555555555556, \"#d8576b\"], [0.6666666666666666, \"#ed7953\"], [0.7777777777777778, \"#fb9f3a\"], [0.8888888888888888, \"#fdca26\"], [1.0, \"#f0f921\"]], \"type\": \"histogram2dcontour\"}], \"mesh3d\": [{\"colorbar\": {\"outlinewidth\": 0, \"ticks\": \"\"}, \"type\": \"mesh3d\"}], \"parcoords\": [{\"line\": {\"colorbar\": {\"outlinewidth\": 0, \"ticks\": \"\"}}, \"type\": \"parcoords\"}], \"pie\": [{\"automargin\": true, \"type\": \"pie\"}], \"scatter\": [{\"marker\": {\"colorbar\": {\"outlinewidth\": 0, \"ticks\": \"\"}}, \"type\": \"scatter\"}], \"scatter3d\": [{\"line\": {\"colorbar\": {\"outlinewidth\": 0, \"ticks\": \"\"}}, \"marker\": {\"colorbar\": {\"outlinewidth\": 0, \"ticks\": \"\"}}, \"type\": \"scatter3d\"}], \"scattercarpet\": [{\"marker\": {\"colorbar\": {\"outlinewidth\": 0, \"ticks\": \"\"}}, \"type\": \"scattercarpet\"}], \"scattergeo\": [{\"marker\": {\"colorbar\": {\"outlinewidth\": 0, \"ticks\": \"\"}}, \"type\": \"scattergeo\"}], \"scattergl\": [{\"marker\": {\"colorbar\": {\"outlinewidth\": 0, \"ticks\": \"\"}}, \"type\": \"scattergl\"}], \"scattermapbox\": [{\"marker\": {\"colorbar\": {\"outlinewidth\": 0, \"ticks\": \"\"}}, \"type\": \"scattermapbox\"}], \"scatterpolar\": [{\"marker\": {\"colorbar\": {\"outlinewidth\": 0, \"ticks\": \"\"}}, \"type\": \"scatterpolar\"}], \"scatterpolargl\": [{\"marker\": {\"colorbar\": {\"outlinewidth\": 0, \"ticks\": \"\"}}, \"type\": \"scatterpolargl\"}], \"scatterternary\": [{\"marker\": {\"colorbar\": {\"outlinewidth\": 0, \"ticks\": \"\"}}, \"type\": \"scatterternary\"}], \"surface\": [{\"colorbar\": {\"outlinewidth\": 0, \"ticks\": \"\"}, \"colorscale\": [[0.0, \"#0d0887\"], [0.1111111111111111, \"#46039f\"], [0.2222222222222222, \"#7201a8\"], [0.3333333333333333, \"#9c179e\"], [0.4444444444444444, \"#bd3786\"], [0.5555555555555556, \"#d8576b\"], [0.6666666666666666, \"#ed7953\"], [0.7777777777777778, \"#fb9f3a\"], [0.8888888888888888, \"#fdca26\"], [1.0, \"#f0f921\"]], \"type\": \"surface\"}], \"table\": [{\"cells\": {\"fill\": {\"color\": \"#EBF0F8\"}, \"line\": {\"color\": \"white\"}}, \"header\": {\"fill\": {\"color\": \"#C8D4E3\"}, \"line\": {\"color\": \"white\"}}, \"type\": \"table\"}]}, \"layout\": {\"annotationdefaults\": {\"arrowcolor\": \"#2a3f5f\", \"arrowhead\": 0, \"arrowwidth\": 1}, \"coloraxis\": {\"colorbar\": {\"outlinewidth\": 0, \"ticks\": \"\"}}, \"colorscale\": {\"diverging\": [[0, \"#8e0152\"], [0.1, \"#c51b7d\"], [0.2, \"#de77ae\"], [0.3, \"#f1b6da\"], [0.4, \"#fde0ef\"], [0.5, \"#f7f7f7\"], [0.6, \"#e6f5d0\"], [0.7, \"#b8e186\"], [0.8, \"#7fbc41\"], [0.9, \"#4d9221\"], [1, \"#276419\"]], \"sequential\": [[0.0, \"#0d0887\"], [0.1111111111111111, \"#46039f\"], [0.2222222222222222, \"#7201a8\"], [0.3333333333333333, \"#9c179e\"], [0.4444444444444444, \"#bd3786\"], [0.5555555555555556, \"#d8576b\"], [0.6666666666666666, \"#ed7953\"], [0.7777777777777778, \"#fb9f3a\"], [0.8888888888888888, \"#fdca26\"], [1.0, \"#f0f921\"]], \"sequentialminus\": [[0.0, \"#0d0887\"], [0.1111111111111111, \"#46039f\"], [0.2222222222222222, \"#7201a8\"], [0.3333333333333333, \"#9c179e\"], [0.4444444444444444, \"#bd3786\"], [0.5555555555555556, \"#d8576b\"], [0.6666666666666666, \"#ed7953\"], [0.7777777777777778, \"#fb9f3a\"], [0.8888888888888888, \"#fdca26\"], [1.0, \"#f0f921\"]]}, \"colorway\": [\"#636efa\", \"#EF553B\", \"#00cc96\", \"#ab63fa\", \"#FFA15A\", \"#19d3f3\", \"#FF6692\", \"#B6E880\", \"#FF97FF\", \"#FECB52\"], \"font\": {\"color\": \"#2a3f5f\"}, \"geo\": {\"bgcolor\": \"white\", \"lakecolor\": \"white\", \"landcolor\": \"#E5ECF6\", \"showlakes\": true, \"showland\": true, \"subunitcolor\": \"white\"}, \"hoverlabel\": {\"align\": \"left\"}, \"hovermode\": \"closest\", \"mapbox\": {\"style\": \"light\"}, \"paper_bgcolor\": \"white\", \"plot_bgcolor\": \"#E5ECF6\", \"polar\": {\"angularaxis\": {\"gridcolor\": \"white\", \"linecolor\": \"white\", \"ticks\": \"\"}, \"bgcolor\": \"#E5ECF6\", \"radialaxis\": {\"gridcolor\": \"white\", \"linecolor\": \"white\", \"ticks\": \"\"}}, \"scene\": {\"xaxis\": {\"backgroundcolor\": \"#E5ECF6\", \"gridcolor\": \"white\", \"gridwidth\": 2, \"linecolor\": \"white\", \"showbackground\": true, \"ticks\": \"\", \"zerolinecolor\": \"white\"}, \"yaxis\": {\"backgroundcolor\": \"#E5ECF6\", \"gridcolor\": \"white\", \"gridwidth\": 2, \"linecolor\": \"white\", \"showbackground\": true, \"ticks\": \"\", \"zerolinecolor\": \"white\"}, \"zaxis\": {\"backgroundcolor\": \"#E5ECF6\", \"gridcolor\": \"white\", \"gridwidth\": 2, \"linecolor\": \"white\", \"showbackground\": true, \"ticks\": \"\", \"zerolinecolor\": \"white\"}}, \"shapedefaults\": {\"line\": {\"color\": \"#2a3f5f\"}}, \"ternary\": {\"aaxis\": {\"gridcolor\": \"white\", \"linecolor\": \"white\", \"ticks\": \"\"}, \"baxis\": {\"gridcolor\": \"white\", \"linecolor\": \"white\", \"ticks\": \"\"}, \"bgcolor\": \"#E5ECF6\", \"caxis\": {\"gridcolor\": \"white\", \"linecolor\": \"white\", \"ticks\": \"\"}}, \"title\": {\"x\": 0.05}, \"xaxis\": {\"automargin\": true, \"gridcolor\": \"white\", \"linecolor\": \"white\", \"ticks\": \"\", \"title\": {\"standoff\": 15}, \"zerolinecolor\": \"white\", \"zerolinewidth\": 2}, \"yaxis\": {\"automargin\": true, \"gridcolor\": \"white\", \"linecolor\": \"white\", \"ticks\": \"\", \"title\": {\"standoff\": 15}, \"zerolinecolor\": \"white\", \"zerolinewidth\": 2}}}, \"title\": {\"text\": \"Active Cases\"}},\n",
              "                        {\"responsive\": true}\n",
              "                    ).then(function(){\n",
              "                            \n",
              "var gd = document.getElementById('cb4038fd-8b25-4fa3-8c41-9e0802feea08');\n",
              "var x = new MutationObserver(function (mutations, observer) {{\n",
              "        var display = window.getComputedStyle(gd).display;\n",
              "        if (!display || display === 'none') {{\n",
              "            console.log([gd, 'removed!']);\n",
              "            Plotly.purge(gd);\n",
              "            observer.disconnect();\n",
              "        }}\n",
              "}});\n",
              "\n",
              "// Listen for the removal of the full notebook cells\n",
              "var notebookContainer = gd.closest('#notebook-container');\n",
              "if (notebookContainer) {{\n",
              "    x.observe(notebookContainer, {childList: true});\n",
              "}}\n",
              "\n",
              "// Listen for the clearing of the current output cell\n",
              "var outputEl = gd.closest('.output');\n",
              "if (outputEl) {{\n",
              "    x.observe(outputEl, {childList: true});\n",
              "}}\n",
              "\n",
              "                        })\n",
              "                };\n",
              "                \n",
              "            </script>\n",
              "        </div>\n",
              "</body>\n",
              "</html>"
            ]
          },
          "metadata": {
            "tags": []
          }
        }
      ]
    },
    {
      "cell_type": "code",
      "metadata": {
        "id": "Sqo8odqR0lKl",
        "outputId": "83f315b4-de4a-442c-dd31-0b1a152da471",
        "colab": {
          "base_uri": "https://localhost:8080/",
          "height": 408
        }
      },
      "source": [
        "#### Plot Active Cases vs Date Graph\n",
        "total_active_cases = data.groupby(\"Date\")[\"Active\"].sum().reset_index()\n",
        "total_active_cases"
      ],
      "execution_count": null,
      "outputs": [
        {
          "output_type": "execute_result",
          "data": {
            "text/html": [
              "<div>\n",
              "<style scoped>\n",
              "    .dataframe tbody tr th:only-of-type {\n",
              "        vertical-align: middle;\n",
              "    }\n",
              "\n",
              "    .dataframe tbody tr th {\n",
              "        vertical-align: top;\n",
              "    }\n",
              "\n",
              "    .dataframe thead th {\n",
              "        text-align: right;\n",
              "    }\n",
              "</style>\n",
              "<table border=\"1\" class=\"dataframe\">\n",
              "  <thead>\n",
              "    <tr style=\"text-align: right;\">\n",
              "      <th></th>\n",
              "      <th>Date</th>\n",
              "      <th>Active</th>\n",
              "    </tr>\n",
              "  </thead>\n",
              "  <tbody>\n",
              "    <tr>\n",
              "      <th>0</th>\n",
              "      <td>2020-01-22</td>\n",
              "      <td>510.0</td>\n",
              "    </tr>\n",
              "    <tr>\n",
              "      <th>1</th>\n",
              "      <td>2020-01-23</td>\n",
              "      <td>605.0</td>\n",
              "    </tr>\n",
              "    <tr>\n",
              "      <th>2</th>\n",
              "      <td>2020-01-24</td>\n",
              "      <td>879.0</td>\n",
              "    </tr>\n",
              "    <tr>\n",
              "      <th>3</th>\n",
              "      <td>2020-01-25</td>\n",
              "      <td>1357.0</td>\n",
              "    </tr>\n",
              "    <tr>\n",
              "      <th>4</th>\n",
              "      <td>2020-01-26</td>\n",
              "      <td>2010.0</td>\n",
              "    </tr>\n",
              "    <tr>\n",
              "      <th>...</th>\n",
              "      <td>...</td>\n",
              "      <td>...</td>\n",
              "    </tr>\n",
              "    <tr>\n",
              "      <th>241</th>\n",
              "      <td>2020-09-19</td>\n",
              "      <td>8810095.0</td>\n",
              "    </tr>\n",
              "    <tr>\n",
              "      <th>242</th>\n",
              "      <td>2020-09-20</td>\n",
              "      <td>8815987.0</td>\n",
              "    </tr>\n",
              "    <tr>\n",
              "      <th>243</th>\n",
              "      <td>2020-09-21</td>\n",
              "      <td>8887511.0</td>\n",
              "    </tr>\n",
              "    <tr>\n",
              "      <th>244</th>\n",
              "      <td>2020-09-22</td>\n",
              "      <td>8923075.0</td>\n",
              "    </tr>\n",
              "    <tr>\n",
              "      <th>245</th>\n",
              "      <td>2020-09-23</td>\n",
              "      <td>8914289.0</td>\n",
              "    </tr>\n",
              "  </tbody>\n",
              "</table>\n",
              "<p>246 rows × 2 columns</p>\n",
              "</div>"
            ],
            "text/plain": [
              "          Date     Active\n",
              "0   2020-01-22      510.0\n",
              "1   2020-01-23      605.0\n",
              "2   2020-01-24      879.0\n",
              "3   2020-01-25     1357.0\n",
              "4   2020-01-26     2010.0\n",
              "..         ...        ...\n",
              "241 2020-09-19  8810095.0\n",
              "242 2020-09-20  8815987.0\n",
              "243 2020-09-21  8887511.0\n",
              "244 2020-09-22  8923075.0\n",
              "245 2020-09-23  8914289.0\n",
              "\n",
              "[246 rows x 2 columns]"
            ]
          },
          "metadata": {
            "tags": []
          },
          "execution_count": 34
        }
      ]
    },
    {
      "cell_type": "code",
      "metadata": {
        "id": "9yijo2BG3af4",
        "outputId": "8efc7f69-4ab5-49c9-a3f2-a61dc5f86d49",
        "colab": {
          "base_uri": "https://localhost:8080/",
          "height": 472
        }
      },
      "source": [
        "plt.figure(figsize=(50,20))\n",
        "plt.xlabel(\"Days\",fontsize=50)\n",
        "plt.ylabel(\"Active Cases\",fontsize=50)\n",
        "sns.pointplot(x = total_active_cases.index,y = total_active_cases['Active'])\n",
        "plt.show()"
      ],
      "execution_count": null,
      "outputs": [
        {
          "output_type": "display_data",
          "data": {
            "image/png": "[encoded data removed]",
            "text/plain": [
              "<Figure size 3600x1440 with 1 Axes>"
            ]
          },
          "metadata": {
            "tags": [],
            "needs_background": "light"
          }
        }
      ]
    },
    {
      "cell_type": "code",
      "metadata": {
        "id": "SM09EQrS4UaR"
      },
      "source": [
        "total_cases = data.groupby(\"Date\")[\"Active\",\"Confirmed\",\"Recovered\",\"Deaths\"].sum().reset_index()\n",
        "total_cases"
      ],
      "execution_count": null,
      "outputs": []
    },
    {
      "cell_type": "code",
      "metadata": {
        "id": "PwXL8SZ55QCt"
      },
      "source": [
        "plt.figure(figsize=(50,20))\n",
        "plt.xlabel(\"Days\",fontsize=50)\n",
        "plt.ylabel(\"Cases\",fontsize=50)\n",
        "sns.pointplot(x = total_cases.index,y = total_cases['Active'],color=\"blue\")\n",
        "sns.pointplot(x = total_cases.index,y = total_cases['Confirmed'],color=\"orange\")\n",
        "sns.pointplot(x = total_cases.index,y = total_cases['Recovered'],color=\"green\")\n",
        "sns.pointplot(x = total_cases.index,y = total_cases['Deaths'],color=\"red\")\n",
        "plt.show()"
      ],
      "execution_count": null,
      "outputs": []
    },
    {
      "cell_type": "code",
      "metadata": {
        "id": "bU983ePk5bXb"
      },
      "source": [
        "### Top 20 Countries Having maximum confirmed cases and check the recovery rate\n",
        "top = latest.groupby(\"Country\")['Confirmed','Recovered'].sum()\n",
        "top = top.sort_values(\"Confirmed\",ascending=False).reset_index()\n",
        "top.head()"
      ],
      "execution_count": null,
      "outputs": []
    },
    {
      "cell_type": "code",
      "metadata": {
        "id": "3j4nk5DW6qCy",
        "outputId": "271bba85-c1e8-4465-ac07-90de7254cf09",
        "colab": {
          "base_uri": "https://localhost:8080/",
          "height": 649
        }
      },
      "source": [
        "top_20 = top.head(20)\n",
        "top_20"
      ],
      "execution_count": null,
      "outputs": [
        {
          "output_type": "execute_result",
          "data": {
            "text/html": [
              "<div>\n",
              "<style scoped>\n",
              "    .dataframe tbody tr th:only-of-type {\n",
              "        vertical-align: middle;\n",
              "    }\n",
              "\n",
              "    .dataframe tbody tr th {\n",
              "        vertical-align: top;\n",
              "    }\n",
              "\n",
              "    .dataframe thead th {\n",
              "        text-align: right;\n",
              "    }\n",
              "</style>\n",
              "<table border=\"1\" class=\"dataframe\">\n",
              "  <thead>\n",
              "    <tr style=\"text-align: right;\">\n",
              "      <th></th>\n",
              "      <th>Country</th>\n",
              "      <th>Confirmed</th>\n",
              "      <th>Recovered</th>\n",
              "    </tr>\n",
              "  </thead>\n",
              "  <tbody>\n",
              "    <tr>\n",
              "      <th>0</th>\n",
              "      <td>US</td>\n",
              "      <td>6933548.0</td>\n",
              "      <td>2670256.0</td>\n",
              "    </tr>\n",
              "    <tr>\n",
              "      <th>1</th>\n",
              "      <td>India</td>\n",
              "      <td>5646010.0</td>\n",
              "      <td>4587613.0</td>\n",
              "    </tr>\n",
              "    <tr>\n",
              "      <th>2</th>\n",
              "      <td>Brazil</td>\n",
              "      <td>4591364.0</td>\n",
              "      <td>4046827.0</td>\n",
              "    </tr>\n",
              "    <tr>\n",
              "      <th>3</th>\n",
              "      <td>Russia</td>\n",
              "      <td>1117487.0</td>\n",
              "      <td>920602.0</td>\n",
              "    </tr>\n",
              "    <tr>\n",
              "      <th>4</th>\n",
              "      <td>Colombia</td>\n",
              "      <td>784268.0</td>\n",
              "      <td>662277.0</td>\n",
              "    </tr>\n",
              "    <tr>\n",
              "      <th>5</th>\n",
              "      <td>Peru</td>\n",
              "      <td>776546.0</td>\n",
              "      <td>636489.0</td>\n",
              "    </tr>\n",
              "    <tr>\n",
              "      <th>6</th>\n",
              "      <td>Mexico</td>\n",
              "      <td>710049.0</td>\n",
              "      <td>601611.0</td>\n",
              "    </tr>\n",
              "    <tr>\n",
              "      <th>7</th>\n",
              "      <td>Spain</td>\n",
              "      <td>693556.0</td>\n",
              "      <td>150376.0</td>\n",
              "    </tr>\n",
              "    <tr>\n",
              "      <th>8</th>\n",
              "      <td>South Africa</td>\n",
              "      <td>665188.0</td>\n",
              "      <td>594229.0</td>\n",
              "    </tr>\n",
              "    <tr>\n",
              "      <th>9</th>\n",
              "      <td>Argentina</td>\n",
              "      <td>664799.0</td>\n",
              "      <td>525486.0</td>\n",
              "    </tr>\n",
              "    <tr>\n",
              "      <th>10</th>\n",
              "      <td>France</td>\n",
              "      <td>508456.0</td>\n",
              "      <td>96498.0</td>\n",
              "    </tr>\n",
              "    <tr>\n",
              "      <th>11</th>\n",
              "      <td>Chile</td>\n",
              "      <td>449903.0</td>\n",
              "      <td>425165.0</td>\n",
              "    </tr>\n",
              "    <tr>\n",
              "      <th>12</th>\n",
              "      <td>Iran</td>\n",
              "      <td>432798.0</td>\n",
              "      <td>365846.0</td>\n",
              "    </tr>\n",
              "    <tr>\n",
              "      <th>13</th>\n",
              "      <td>UK</td>\n",
              "      <td>412245.0</td>\n",
              "      <td>2247.0</td>\n",
              "    </tr>\n",
              "    <tr>\n",
              "      <th>14</th>\n",
              "      <td>Bangladesh</td>\n",
              "      <td>353844.0</td>\n",
              "      <td>262953.0</td>\n",
              "    </tr>\n",
              "    <tr>\n",
              "      <th>15</th>\n",
              "      <td>Iraq</td>\n",
              "      <td>332635.0</td>\n",
              "      <td>264988.0</td>\n",
              "    </tr>\n",
              "    <tr>\n",
              "      <th>16</th>\n",
              "      <td>Saudi Arabia</td>\n",
              "      <td>331359.0</td>\n",
              "      <td>313786.0</td>\n",
              "    </tr>\n",
              "    <tr>\n",
              "      <th>17</th>\n",
              "      <td>Pakistan</td>\n",
              "      <td>308217.0</td>\n",
              "      <td>294392.0</td>\n",
              "    </tr>\n",
              "    <tr>\n",
              "      <th>18</th>\n",
              "      <td>Turkey</td>\n",
              "      <td>308069.0</td>\n",
              "      <td>270723.0</td>\n",
              "    </tr>\n",
              "    <tr>\n",
              "      <th>19</th>\n",
              "      <td>Italy</td>\n",
              "      <td>302537.0</td>\n",
              "      <td>220665.0</td>\n",
              "    </tr>\n",
              "  </tbody>\n",
              "</table>\n",
              "</div>"
            ],
            "text/plain": [
              "         Country  Confirmed  Recovered\n",
              "0             US  6933548.0  2670256.0\n",
              "1          India  5646010.0  4587613.0\n",
              "2         Brazil  4591364.0  4046827.0\n",
              "3         Russia  1117487.0   920602.0\n",
              "4       Colombia   784268.0   662277.0\n",
              "5           Peru   776546.0   636489.0\n",
              "6         Mexico   710049.0   601611.0\n",
              "7          Spain   693556.0   150376.0\n",
              "8   South Africa   665188.0   594229.0\n",
              "9      Argentina   664799.0   525486.0\n",
              "10        France   508456.0    96498.0\n",
              "11         Chile   449903.0   425165.0\n",
              "12          Iran   432798.0   365846.0\n",
              "13            UK   412245.0     2247.0\n",
              "14    Bangladesh   353844.0   262953.0\n",
              "15          Iraq   332635.0   264988.0\n",
              "16  Saudi Arabia   331359.0   313786.0\n",
              "17      Pakistan   308217.0   294392.0\n",
              "18        Turkey   308069.0   270723.0\n",
              "19         Italy   302537.0   220665.0"
            ]
          },
          "metadata": {
            "tags": []
          },
          "execution_count": 49
        }
      ]
    },
    {
      "cell_type": "code",
      "metadata": {
        "id": "A77aPyzj7H7J",
        "outputId": "16bfc92f-c6a5-473a-8746-9fe6ea8457c2",
        "colab": {
          "base_uri": "https://localhost:8080/",
          "height": 431
        }
      },
      "source": [
        "plt.figure(figsize=(12,6))\n",
        "sns.barplot(x=top_20['Confirmed'],y=top_20['Country'],color=\"red\",label=\"Confirmed Cases\")\n",
        "sns.barplot(x=top_20['Recovered'],y=top_20['Country'],color=\"green\",label=\"Recovered Cases\")\n",
        "plt.title(\"Recovery Rate\",fontsize=20)\n",
        "plt.xlabel(\"Cases\",fontsize=15)\n",
        "plt.ylabel(\"Countries\",fontsize=15)\n",
        "plt.legend(loc='best')\n",
        "plt.show()\n",
        "plt.savefig(\"mygraph.png\")"
      ],
      "execution_count": null,
      "outputs": [
        {
          "output_type": "display_data",
          "data": {
            "image/png": "[encoded data removed]",
            "text/plain": [
              "<Figure size 864x432 with 1 Axes>"
            ]
          },
          "metadata": {
            "tags": [],
            "needs_background": "light"
          }
        },
        {
          "output_type": "display_data",
          "data": {
            "text/plain": [
              "<Figure size 432x288 with 0 Axes>"
            ]
          },
          "metadata": {
            "tags": []
          }
        }
      ]
    },
    {
      "cell_type": "code",
      "metadata": {
        "id": "D2tMM_0c8WFe"
      },
      "source": [
        "india = data[data[\"Country\"]==\"India\"]\n",
        "india"
      ],
      "execution_count": null,
      "outputs": []
    },
    {
      "cell_type": "code",
      "metadata": {
        "id": "X3G7yc4P9xfa"
      },
      "source": [
        "india.isnull().sum()"
      ],
      "execution_count": null,
      "outputs": []
    },
    {
      "cell_type": "code",
      "metadata": {
        "id": "vxmUHZVk-jtT",
        "outputId": "1f10a599-5277-4858-b67e-607ed5c71084",
        "colab": {
          "base_uri": "https://localhost:8080/",
          "height": 198
        }
      },
      "source": [
        "### Get the Latest Data\n",
        "latest_india = india[india['Date'] == india['Date'].max()]\n",
        "latest_india.head()"
      ],
      "execution_count": null,
      "outputs": [
        {
          "output_type": "execute_result",
          "data": {
            "text/html": [
              "<div>\n",
              "<style scoped>\n",
              "    .dataframe tbody tr th:only-of-type {\n",
              "        vertical-align: middle;\n",
              "    }\n",
              "\n",
              "    .dataframe tbody tr th {\n",
              "        vertical-align: top;\n",
              "    }\n",
              "\n",
              "    .dataframe thead th {\n",
              "        text-align: right;\n",
              "    }\n",
              "</style>\n",
              "<table border=\"1\" class=\"dataframe\">\n",
              "  <thead>\n",
              "    <tr style=\"text-align: right;\">\n",
              "      <th></th>\n",
              "      <th>SNo</th>\n",
              "      <th>Date</th>\n",
              "      <th>Province/State</th>\n",
              "      <th>Country</th>\n",
              "      <th>Last Update</th>\n",
              "      <th>Confirmed</th>\n",
              "      <th>Deaths</th>\n",
              "      <th>Recovered</th>\n",
              "      <th>Active</th>\n",
              "    </tr>\n",
              "  </thead>\n",
              "  <tbody>\n",
              "    <tr>\n",
              "      <th>116249</th>\n",
              "      <td>116250</td>\n",
              "      <td>2020-09-23</td>\n",
              "      <td>Andaman and Nicobar Islands</td>\n",
              "      <td>India</td>\n",
              "      <td>2020-09-24 04:23:38</td>\n",
              "      <td>3691.0</td>\n",
              "      <td>52.0</td>\n",
              "      <td>3479.0</td>\n",
              "      <td>160.0</td>\n",
              "    </tr>\n",
              "    <tr>\n",
              "      <th>116250</th>\n",
              "      <td>116251</td>\n",
              "      <td>2020-09-23</td>\n",
              "      <td>Andhra Pradesh</td>\n",
              "      <td>India</td>\n",
              "      <td>2020-09-24 04:23:38</td>\n",
              "      <td>639302.0</td>\n",
              "      <td>5461.0</td>\n",
              "      <td>562376.0</td>\n",
              "      <td>71465.0</td>\n",
              "    </tr>\n",
              "    <tr>\n",
              "      <th>116266</th>\n",
              "      <td>116267</td>\n",
              "      <td>2020-09-23</td>\n",
              "      <td>Arunachal Pradesh</td>\n",
              "      <td>India</td>\n",
              "      <td>2020-09-24 04:23:38</td>\n",
              "      <td>7844.0</td>\n",
              "      <td>14.0</td>\n",
              "      <td>5778.0</td>\n",
              "      <td>2052.0</td>\n",
              "    </tr>\n",
              "    <tr>\n",
              "      <th>116267</th>\n",
              "      <td>116268</td>\n",
              "      <td>2020-09-23</td>\n",
              "      <td>Assam</td>\n",
              "      <td>India</td>\n",
              "      <td>2020-09-24 04:23:38</td>\n",
              "      <td>161393.0</td>\n",
              "      <td>586.0</td>\n",
              "      <td>130950.0</td>\n",
              "      <td>29857.0</td>\n",
              "    </tr>\n",
              "    <tr>\n",
              "      <th>116289</th>\n",
              "      <td>116290</td>\n",
              "      <td>2020-09-23</td>\n",
              "      <td>Bihar</td>\n",
              "      <td>India</td>\n",
              "      <td>2020-09-24 04:23:38</td>\n",
              "      <td>171255.0</td>\n",
              "      <td>873.0</td>\n",
              "      <td>157454.0</td>\n",
              "      <td>12928.0</td>\n",
              "    </tr>\n",
              "  </tbody>\n",
              "</table>\n",
              "</div>"
            ],
            "text/plain": [
              "           SNo       Date  ... Recovered   Active\n",
              "116249  116250 2020-09-23  ...    3479.0    160.0\n",
              "116250  116251 2020-09-23  ...  562376.0  71465.0\n",
              "116266  116267 2020-09-23  ...    5778.0   2052.0\n",
              "116267  116268 2020-09-23  ...  130950.0  29857.0\n",
              "116289  116290 2020-09-23  ...  157454.0  12928.0\n",
              "\n",
              "[5 rows x 9 columns]"
            ]
          },
          "metadata": {
            "tags": []
          },
          "execution_count": 60
        }
      ]
    },
    {
      "cell_type": "code",
      "metadata": {
        "id": "H3jBpUIp-K-S"
      },
      "source": [
        "states = latest_india.groupby(\"Province/State\")[\"Confirmed\",\"Deaths\",\"Recovered\",\"Active\"].sum()\n",
        "states = states.reset_index()\n",
        "states.head()"
      ],
      "execution_count": null,
      "outputs": []
    },
    {
      "cell_type": "code",
      "metadata": {
        "id": "FcJbjrAv-u3C",
        "outputId": "0507e1fb-194b-4d8d-ef62-2a7429b835b0",
        "colab": {
          "base_uri": "https://localhost:8080/",
          "height": 674
        }
      },
      "source": [
        "states['Province/State'].value_counts()"
      ],
      "execution_count": null,
      "outputs": [
        {
          "output_type": "execute_result",
          "data": {
            "text/plain": [
              "Tamil Nadu                                  1\n",
              "Sikkim                                      1\n",
              "Madhya Pradesh                              1\n",
              "Karnataka                                   1\n",
              "Uttarakhand                                 1\n",
              "Haryana                                     1\n",
              "Himachal Pradesh                            1\n",
              "Kerala                                      1\n",
              "Jammu and Kashmir                           1\n",
              "West Bengal                                 1\n",
              "Andhra Pradesh                              1\n",
              "Gujarat                                     1\n",
              "Andaman and Nicobar Islands                 1\n",
              "Chandigarh                                  1\n",
              "Ladakh                                      1\n",
              "Meghalaya                                   1\n",
              "Punjab                                      1\n",
              "Tripura                                     1\n",
              "Uttar Pradesh                               1\n",
              "Jharkhand                                   1\n",
              "Dadra and Nagar Haveli and Daman and Diu    1\n",
              "Goa                                         1\n",
              "Maharashtra                                 1\n",
              "Assam                                       1\n",
              "Mizoram                                     1\n",
              "Delhi                                       1\n",
              "Bihar                                       1\n",
              "Lakshadweep                                 1\n",
              "Puducherry                                  1\n",
              "Rajasthan                                   1\n",
              "Chhattisgarh                                1\n",
              "Manipur                                     1\n",
              "Nagaland                                    1\n",
              "Odisha                                      1\n",
              "Arunachal Pradesh                           1\n",
              "Telangana                                   1\n",
              "Unknown                                     1\n",
              "Name: Province/State, dtype: int64"
            ]
          },
          "metadata": {
            "tags": []
          },
          "execution_count": 64
        }
      ]
    },
    {
      "cell_type": "code",
      "metadata": {
        "id": "kBFcHIJE-0SX",
        "outputId": "e8aa73d9-e68b-448a-c45c-17590d64483f",
        "colab": {
          "base_uri": "https://localhost:8080/",
          "height": 34
        }
      },
      "source": [
        "len(states)"
      ],
      "execution_count": null,
      "outputs": [
        {
          "output_type": "execute_result",
          "data": {
            "text/plain": [
              "37"
            ]
          },
          "metadata": {
            "tags": []
          },
          "execution_count": 63
        }
      ]
    },
    {
      "cell_type": "code",
      "metadata": {
        "id": "lam21inu-5tQ"
      },
      "source": [
        ""
      ],
      "execution_count": null,
      "outputs": []
    }
  ]
}